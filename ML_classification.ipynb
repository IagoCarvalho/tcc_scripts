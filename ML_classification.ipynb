{
 "cells": [
  {
   "cell_type": "code",
   "execution_count": 206,
   "metadata": {},
   "outputs": [],
   "source": [
    "import pandas as pd\n",
    "import seaborn as sns\n",
    "import numpy as np\n",
    "import re\n",
    "\n",
    "from textwrap import wrap\n",
    "from utils import *\n",
    "from matplotlib import pyplot as plt\n",
    "from pymongo import MongoClient\n",
    "from sklearn.ensemble import ExtraTreesClassifier\n",
    "from sklearn.feature_selection import SelectFromModel\n",
    "from sklearn.neighbors import KNeighborsClassifier\n",
    "from sklearn.model_selection import train_test_split\n",
    "from sklearn.metrics import confusion_matrix\n",
    "from sklearn.metrics import classification_report\n",
    "from sklearn.linear_model import SGDClassifier\n",
    "from sklearn.feature_selection import VarianceThreshold\n",
    "from sklearn.feature_selection import RFE\n",
    "from sklearn import preprocessing"
   ]
  },
  {
   "cell_type": "code",
   "execution_count": 198,
   "metadata": {},
   "outputs": [],
   "source": [
    "acidentes_der = mongo_to_dataframe(\"acidentes_fatais_2008_2017\")\n",
    "acidentes_prf = mongo_to_dataframe(\"acidentes_rodovias_2010_2019\") "
   ]
  },
  {
   "cell_type": "markdown",
   "metadata": {},
   "source": [
    "* Determinar causa de acidentes fatais em rodovias\n",
    "    * Trabalho pode depender de perícia em certos casos\n",
    "\n",
    "* Inputs:\n",
    "    * condições climáticas\n",
    "    * fase_dia, dia, mês\n",
    "    * sentido_via (considerar)\n",
    "    * uso_solo (considerar)\n",
    "    * tipo_pista\n",
    "    * tracado_pista\n",
    "    * densidade da população\n",
    "    * tipo_acidente\n",
    "    * classificacao_acidente\n",
    "    * pessoas\n",
    "    * veiculos"
   ]
  },
  {
   "cell_type": "markdown",
   "metadata": {},
   "source": [
    "### Preparação dos dados"
   ]
  },
  {
   "cell_type": "code",
   "execution_count": 134,
   "metadata": {},
   "outputs": [],
   "source": [
    "def get_periodo(row, horario_column):\n",
    "    if row[horario_column] == 'NAO_ESPECIFICADA':\n",
    "        return 'NAO_ESPECIFICADA'\n",
    "    elif wrap(row[horario_column], 2)[0] >= '06' and wrap(row[horario_column], 2)[0] < '12':\n",
    "        return 'Amanhecer'\n",
    "    elif wrap(row[horario_column] , 2)[0]>= '12' and wrap(row[horario_column] , 2)[0]< '18':\n",
    "        return 'Pleno dia'\n",
    "    elif wrap(row[horario_column] , 2)[0]>= '18' and wrap(row[horario_column] , 2)[0]< '19':\n",
    "        return 'Anoitecer'\n",
    "    elif wrap(row[horario_column] , 2)[0]>= '19' and wrap(row[horario_column] , 2)[0]<= '23':\n",
    "        return 'Plena Noite'\n",
    "    elif wrap(row[horario_column] , 2)[0]>= '00' and wrap(row[horario_column] , 2)[0]<= '06':\n",
    "        return 'Madrugada'"
   ]
  },
  {
   "cell_type": "code",
   "execution_count": 234,
   "metadata": {},
   "outputs": [],
   "source": [
    "dias = {\n",
    "    'segunda-feira': 'Segunda',\n",
    "    'terça-feira': 'Terça',\n",
    "    'quarta-feira': 'Quarta',\n",
    "    'quinta-feira': 'Quinta',\n",
    "    'sexta-feira': 'Sexta',\n",
    "    'sábado': 'Sábado',\n",
    "    'domingo': 'Domingo'\n",
    "}\n",
    "\n",
    "uso_solo = {\n",
    "    'Sim': 'Urbano',\n",
    "    'Não': 'Rural'\n",
    "}\n",
    "\n",
    "tipos = {\n",
    "    'Derramamento de carga': 'Outros',\n",
    "    'Derramamento de Carga': 'Outros',\n",
    "    'Danos Eventuais': 'Outros',\n",
    "    'Danos eventuais': 'Outros',\n",
    "    'Atropelamento de Animal': 'Atropelamento de animal',\n",
    "    'Colisão com objeto móvel': 'Colisão com objeto em movimento',\n",
    "    'Colisão com objeto estático': 'Colisão com objeto fixo',\n",
    "    'Saída de leito carroçável': 'Saída de Pista'\n",
    "}\n",
    "\n",
    "\n",
    "causas = {\n",
    "    'Sinalização da via insuficiente ou inadequada': 'Causas externas',\n",
    "    'Fenômenos da natureza': 'Causas externas',\n",
    "    'Mal súbito': 'Causas externas', \n",
    "    'Avarias e/ou desgaste excessivo no pneu': 'Desobediência de normas',  \n",
    "    'Restrição de visibilidade': 'Causas externas', \n",
    "    'Agressão externa': 'Causas externas',\n",
    "    'Carga excessiva e/ou mal acondicionada': 'Desobediência de normas', \n",
    "    'Ingestão de substâncias psicoativas': 'Desobediência de normas',\n",
    "    'Objeto estático sobre o leito carroçável': 'Causas externas',  \n",
    "    'Ingestão de álcool e/ou substâncias psicoativas pelo pedestre': 'Ingestão de álcool',\n",
    "    'Sinalização da via insuficiente ou inadequada': 'Causas externas',   \n",
    "    'Desobediência às normas de trânsito pelo pedestre' : 'Desobediência de normas', \n",
    "    'Deficiência ou não acionamento do sistema de iluminação/sinalização do veículo' : 'Desobediência de normas',\n",
    "    'Defeito mecânico em veículo': 'Defeito mecânico no veículo',\n",
    "    'Condutor dormindo' : 'Dormindo'\n",
    "}\n",
    "\n",
    "acidentes_prf = mongo_to_dataframe(\"acidentes_rodovias_2010_2019\") \n",
    "\n",
    "columns_to_drop = ['data_inversa', 'horario', 'uf', 'ano', 'km', 'ignorados']\n",
    "\n",
    "acidentes_prf.causa_acidente = acidentes_prf.causa_acidente.str.strip()\n",
    "acidentes_prf.causa_acidente = acidentes_prf.causa_acidente.str.capitalize()\n",
    "acidentes_prf.causa_acidente = acidentes_prf.causa_acidente.replace(causas)\n",
    "\n",
    "acidentes_prf.horario = acidentes_prf.horario.str.strip()\n",
    "acidentes_prf['fase_dia'] = acidentes_prf.apply(lambda row: get_periodo(row, 'horario'), axis = 1)\n",
    "\n",
    "acidentes_prf.dia_semana = acidentes_prf.dia_semana.replace(dias)\n",
    "\n",
    "acidentes_prf.uso_solo = acidentes_prf.uso_solo.str.strip()\n",
    "acidentes_prf.uso_solo = acidentes_prf.uso_solo.replace(dias)\n",
    "\n",
    "acidentes_prf.horario = pd.to_datetime(acidentes_prf.horario)\n",
    "acidentes_prf['mes'] = acidentes_prf.horario.dt.month\n",
    "\n",
    "acidentes_prf.condicao_metereologica = acidentes_prf.condicao_metereologica.str.strip()\n",
    "acidentes_prf.condicao_metereologica = acidentes_prf.condicao_metereologica.replace({'Céu Claro': 'Ceu Claro'})\n",
    "\n",
    "acidentes_prf.tipo_pista = acidentes_prf.tipo_pista.str.strip()\n",
    "acidentes_prf.tracado_via = acidentes_prf.tracado_via.str.strip()\n",
    "\n",
    "acidentes_prf.tipo_acidente = acidentes_prf.tipo_acidente.str.strip()\n",
    "acidentes_prf.tipo_acidente = acidentes_prf.tipo_acidente.replace(tipos)\n",
    "\n",
    "acidentes_prf.classificacao_acidente = acidentes_prf.classificacao_acidente.str.strip()\n",
    "\n",
    "#acidentes_prf.km = acidentes_prf.km.astype(str)\n",
    "#acidentes_prf.km = acidentes_prf.km.replace({',':'.'})\n",
    "\n",
    "#acidentes_prf.br = acidentes_prf.br.astype(str)\n",
    "acidentes_prf.br = acidentes_prf.br.replace({',':'.'})\n",
    "\n",
    "acidentes_prf = acidentes_prf.drop(columns_to_drop, axis = 1)\n",
    "acidentes_prf = acidentes_prf.dropna()\n",
    "\n",
    "acidentes_prf.br = acidentes_prf.br.astype(float).astype(int)\n",
    "\n",
    "acidentes_prf.sentido_via = acidentes_prf.sentido_via.str.strip()\n",
    "#acidentes_prf.km = acidentes_prf.km.astype(float).astype(int)"
   ]
  },
  {
   "cell_type": "code",
   "execution_count": 207,
   "metadata": {},
   "outputs": [
    {
     "name": "stdout",
     "output_type": "stream",
     "text": [
      "<class 'pandas.core.frame.DataFrame'>\n",
      "Int64Index: 11776 entries, 0 to 11780\n",
      "Data columns (total 19 columns):\n",
      "dia_semana                11776 non-null object\n",
      "br                        11776 non-null int64\n",
      "causa_acidente            11776 non-null object\n",
      "tipo_acidente             11776 non-null object\n",
      "classificacao_acidente    11776 non-null object\n",
      "fase_dia                  11776 non-null object\n",
      "sentido_via               11776 non-null object\n",
      "condicao_metereologica    11776 non-null object\n",
      "tipo_pista                11776 non-null object\n",
      "tracado_via               11776 non-null object\n",
      "uso_solo                  11776 non-null object\n",
      "pessoas                   11776 non-null int64\n",
      "mortos                    11776 non-null int64\n",
      "feridos_leves             11776 non-null int64\n",
      "feridos_graves            11776 non-null int64\n",
      "ilesos                    11776 non-null int64\n",
      "feridos                   11776 non-null int64\n",
      "veiculos                  11776 non-null int64\n",
      "mes                       11776 non-null int64\n",
      "dtypes: int64(9), object(10)\n",
      "memory usage: 1.8+ MB\n"
     ]
    }
   ],
   "source": [
    "acidentes_prf.info()"
   ]
  },
  {
   "cell_type": "markdown",
   "metadata": {},
   "source": [
    "### Feature Selection"
   ]
  },
  {
   "cell_type": "code",
   "execution_count": null,
   "metadata": {},
   "outputs": [],
   "source": [
    "svc = SVC(kernel=\"linear\", C=1)\n"
   ]
  },
  {
   "cell_type": "markdown",
   "metadata": {},
   "source": [
    "### SGD ()"
   ]
  },
  {
   "cell_type": "markdown",
   "metadata": {},
   "source": [
    "#### Separação dos sets de treino e teste"
   ]
  },
  {
   "cell_type": "code",
   "execution_count": 235,
   "metadata": {},
   "outputs": [],
   "source": [
    "le = preprocessing.LabelEncoder()\n",
    "\n",
    "acidentes_prf.dia_semana = le.fit_transform(acidentes_prf.dia_semana)\n",
    "acidentes_prf.causa_acidente = le.fit_transform(acidentes_prf.causa_acidente)\n",
    "acidentes_prf.tipo_acidente = le.fit_transform(acidentes_prf.tipo_acidente)\n",
    "acidentes_prf.classificacao_acidente = le.fit_transform(acidentes_prf.classificacao_acidente)\n",
    "acidentes_prf.fase_dia = le.fit_transform(acidentes_prf.fase_dia)\n",
    "acidentes_prf.sentido_via = le.fit_transform(acidentes_prf.sentido_via)\n",
    "acidentes_prf.condicao_metereologica = le.fit_transform(acidentes_prf.condicao_metereologica)\n",
    "acidentes_prf.tipo_pista = le.fit_transform(acidentes_prf.tipo_pista)\n",
    "acidentes_prf.tracado_via = le.fit_transform(acidentes_prf.tracado_via)\n",
    "acidentes_prf.uso_solo = le.fit_transform(acidentes_prf.uso_solo)\n",
    "#for i in range(19):\n",
    "    #acidentes_prf[:,i] = le.fit_transform(acidentes_prf[:,i])"
   ]
  },
  {
   "cell_type": "code",
   "execution_count": 236,
   "metadata": {},
   "outputs": [],
   "source": [
    "X = acidentes_prf.drop('causa_acidente', axis = 1) \n",
    "y = (acidentes_prf['causa_acidente'])\n",
    "\n",
    "X_train, X_test, y_train, y_test = train_test_split(\n",
    "    X,\n",
    "    y,\n",
    "    test_size = 0.3,\n",
    "    random_state = 42,\n",
    "    stratify = y\n",
    ")"
   ]
  },
  {
   "cell_type": "code",
   "execution_count": 237,
   "metadata": {},
   "outputs": [
    {
     "name": "stdout",
     "output_type": "stream",
     "text": [
      "[[  0   0   0   0   0   0   0   0   6   0   0  10   0   0   0   0   0]\n",
      " [  0   0   0   0   0   0   0   0   7   0   0  16   0   0   0   0   0]\n",
      " [  0   0   0   0   0   0   0   0  46   0   0  54   0   0   0   0   0]\n",
      " [  0   0   0   0   0   0   0   0  10   0   0  13   0   0   0   0   0]\n",
      " [  0   0   0   0   0   0   0   0   5   0   0  12   0   0   0   0   0]\n",
      " [  0   0   0   0   0   0   0   0  65   0   0  24   1   0   0   0   0]\n",
      " [  0   0   0   0   0   0   0   0  38   0   0  22   0   0   0   0   0]\n",
      " [  0   0   0   0   0   0   0   0  46   0   0  45   0   1   0   0   0]\n",
      " [  0   0   0   0   0   0   0   0 638   0   0 435  11   0   0   0   1]\n",
      " [  0   0   0   0   0   0   0   0  12   1   0  10   1   0   0   0   0]\n",
      " [  0   0   0   0   0   0   0   0 186   0   0 168   0   0   0   0   0]\n",
      " [  0   0   0   0   0   0   0   0 178   0   0 110   2   0   0   0   0]\n",
      " [  0   0   0   0   0   0   0   0 104   0   0 103  12   0   0   0   0]\n",
      " [  0   0   0   0   0   0   0   0 502   0   0 400   4   3   0   0   0]\n",
      " [  0   0   0   0   0   0   0   0  10   0   0  21   1   0   0   0   0]\n",
      " [  0   0   0   0   0   0   0   0   9   0   0   6   0   0   0   0   0]\n",
      " [  0   0   0   0   0   0   0   0  79   0   0 104   0   1   0   0   0]]\n"
     ]
    },
    {
     "data": {
      "text/plain": [
       "0.2162468157373337"
      ]
     },
     "execution_count": 237,
     "metadata": {},
     "output_type": "execute_result"
    }
   ],
   "source": [
    "model = SGDClassifier(alpha=0.0001, average=False, class_weight=None,\n",
    "       early_stopping=False, epsilon=0.1, eta0=0.0, fit_intercept=True,\n",
    "       l1_ratio=0.15, learning_rate='optimal', loss='hinge', max_iter=1000,\n",
    "       n_iter_no_change=5, n_jobs=None, penalty='l2', power_t=0.5,\n",
    "       random_state=42, shuffle=True, tol=0.001, verbose=0, warm_start=False)\n",
    "\n",
    "model.fit(X_train, y_train)\n",
    "\n",
    "predicted = model.predict(X_test)\n",
    "\n",
    "matrix = confusion_matrix(y_test, predicted)\n",
    "print(matrix)\n",
    "\n",
    "accuracy = model.score(X=X_test, y=y_test)\n",
    "accuracy\n",
    "# testar loss = modified hubber\n",
    "# jobs\n",
    "# penality\n",
    "# random state\n",
    "\n"
   ]
  },
  {
   "cell_type": "code",
   "execution_count": 223,
   "metadata": {},
   "outputs": [],
   "source": [
    "def plot_confusion_matrix(cm, classes,\n",
    "                          title='Confusion matrix',\n",
    "                          cmap=plt.cm.Blues):\n",
    "\n",
    "    plt.imshow(cm, interpolation='nearest', cmap=cmap)\n",
    "    plt.title(title)\n",
    "    plt.colorbar()\n",
    "    tick_marks = np.arange(len(classes))\n",
    "    plt.xticks(tick_marks, classes, rotation=45)\n",
    "    plt.yticks(tick_marks, classes)\n",
    "\n",
    "    thresh = cm.max() / 2.\n",
    "    for i, j in itertools.product(range(cm.shape[0]), range(cm.shape[1])):\n",
    "        plt.text(j, i, format(cm[i, j]),\n",
    "                 horizontalalignment=\"center\",\n",
    "                 color=\"white\" if cm[i, j] > thresh else \"black\")\n",
    "\n",
    "    plt.tight_layout()\n",
    "    plt.ylabel('True label')\n",
    "    plt.xlabel('Predicted label')"
   ]
  },
  {
   "cell_type": "code",
   "execution_count": 238,
   "metadata": {},
   "outputs": [
    {
     "name": "stdout",
     "output_type": "stream",
     "text": [
      "Score for k = 1: 0.2949334842909708\n",
      "Score for k = 2: 0.2912538918765921\n",
      "Score for k = 3: 0.31050099065949616\n",
      "Score for k = 4: 0.3373903198414945\n",
      "Score for k = 5: 0.3552221907727144\n",
      "Score for k = 6: 0.36399660345315593\n",
      "Score for k = 7: 0.3679592414378715\n",
      "Score for k = 8: 0.3806962921030286\n",
      "Score for k = 9: 0.3821115199547127\n",
      "Score for k = 10: 0.3857911123690914\n"
     ]
    }
   ],
   "source": [
    "k_scores = []\n",
    "\n",
    "for k in range(1, 11):\n",
    "    knn = KNeighborsClassifier(n_neighbors=k)\n",
    "    knn.fit(X_train, y_train)\n",
    "\n",
    "    knn_score = knn.score(X_test, y_test)\n",
    "    print('Score for k = ' + str(k) + ': ' + str(knn_score))\n",
    "    \n",
    "    k_scores.append(knn_score)"
   ]
  },
  {
   "cell_type": "code",
   "execution_count": 239,
   "metadata": {},
   "outputs": [
    {
     "name": "stdout",
     "output_type": "stream",
     "text": [
      "Best k to KNN Classifier: 10\n"
     ]
    }
   ],
   "source": [
    "np_k_scores = np.asarray(k_scores)\n",
    "best_k = np.argmax(np_k_scores) + 1\n",
    "print('Best k to KNN Classifier: ' + str(best_k))"
   ]
  },
  {
   "cell_type": "code",
   "execution_count": 240,
   "metadata": {},
   "outputs": [],
   "source": [
    "knn = KNeighborsClassifier(n_neighbors=best_k)\n",
    "knn.fit(X_train, y_train)\n",
    "y_pred = knn.predict(X_test)"
   ]
  },
  {
   "cell_type": "code",
   "execution_count": null,
   "metadata": {},
   "outputs": [],
   "source": [
    "confusion = confusion_matrix(y_test, y_pred, labels=)"
   ]
  },
  {
   "cell_type": "code",
   "execution_count": 226,
   "metadata": {},
   "outputs": [
    {
     "data": {
      "text/plain": [
       "8     3617\n",
       "13    3030\n",
       "10    1178\n",
       "11     968\n",
       "12     729\n",
       "16     613\n",
       "2      332\n",
       "7      307\n",
       "5      299\n",
       "6      200\n",
       "14     108\n",
       "9       81\n",
       "1       78\n",
       "3       77\n",
       "4       56\n",
       "0       52\n",
       "15      51\n",
       "Name: causa_acidente, dtype: int64"
      ]
     },
     "execution_count": 226,
     "metadata": {},
     "output_type": "execute_result"
    }
   ],
   "source": [
    "acidentes_prf.causa_acidente.value_counts()"
   ]
  }
 ],
 "metadata": {
  "kernelspec": {
   "display_name": "Python 3",
   "language": "python",
   "name": "python3"
  },
  "language_info": {
   "codemirror_mode": {
    "name": "ipython",
    "version": 3
   },
   "file_extension": ".py",
   "mimetype": "text/x-python",
   "name": "python",
   "nbconvert_exporter": "python",
   "pygments_lexer": "ipython3",
   "version": "3.7.4"
  }
 },
 "nbformat": 4,
 "nbformat_minor": 2
}
