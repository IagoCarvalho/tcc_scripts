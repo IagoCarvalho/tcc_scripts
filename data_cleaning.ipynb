{
 "cells": [
  {
   "cell_type": "code",
   "execution_count": null,
   "metadata": {},
   "outputs": [],
   "source": [
    "import pandas as pd\n",
    "import re\n",
    "import os\n",
    "\n",
    "from pymongo import MongoClient\n",
    "from utils import *"
   ]
  },
  {
   "cell_type": "markdown",
   "metadata": {},
   "source": [
    "### Limpa Dataset de tipos de infrações"
   ]
  },
  {
   "cell_type": "code",
   "execution_count": null,
   "metadata": {},
   "outputs": [],
   "source": [
    "df_tipos_infracoes_2018 = pd.read_excel(\"datasets/tipos-infracoes-2018.xlsx\")\n",
    "df_tipos_infracoes_2018 = df_tipos_infracoes_2018.rename(columns = {'Unnamed: 0': 'TIPO DE INFRACAO'})\n",
    "\n",
    "df_tipos_infracoes_2018.head(n = 20)"
   ]
  },
  {
   "cell_type": "markdown",
   "metadata": {},
   "source": [
    "### Limpa Dataset de acidentes com vítimas fatais"
   ]
  },
  {
   "cell_type": "code",
   "execution_count": null,
   "metadata": {},
   "outputs": [],
   "source": [
    "df_acidentes_fatais_2008_2017 = pd.read_excel(\"datasets/acidentes/acidentes-fatais-2008-2017.xlsx\")\n",
    "df_acidentes_fatais_2008_2017 = df_acidentes_fatais_2008_2017.drop(\"Fatal\", axis = 1)\n",
    "df_acidentes_fatais_2008_2017['Ano'] = 0\n",
    "\n",
    "\n",
    "for ano in range(2008, 2018):\n",
    "    df_acidentes_fatais_2008_2017.loc[df_acidentes_fatais_2008_2017['Ano ' + str(ano)] == 1.0, 'Ano'] = str(ano)\n",
    "    df_acidentes_fatais_2008_2017 = df_acidentes_fatais_2008_2017.drop('Ano ' + str(ano), axis = 1)\n",
    "\n",
    "df_acidentes_fatais_2008_2017.head()"
   ]
  },
  {
   "cell_type": "markdown",
   "metadata": {},
   "source": [
    "### Limpa Dataset de pedestres mortos em trechos não semaforizados"
   ]
  },
  {
   "cell_type": "code",
   "execution_count": null,
   "metadata": {},
   "outputs": [],
   "source": [
    "df_pedestres_mortos_trechos_ns_2008_2017 = pd.read_excel(\"datasets/pedestres-mortos-trechos-ns-2008-2017.xlsx\")\n",
    "\n",
    "for ano in range(2008, 2018):\n",
    "    df_pedestres_mortos_trechos_ns_2008_2017 = df_pedestres_mortos_trechos_ns_2008_2017.drop(ano, axis = 1)\n",
    "\n",
    "df_pedestres_mortos_trechos_ns_2008_2017.head()"
   ]
  },
  {
   "cell_type": "markdown",
   "metadata": {},
   "source": [
    "### Limpa Dataset de Cursos oferecidos pelo Detran"
   ]
  },
  {
   "cell_type": "code",
   "execution_count": null,
   "metadata": {},
   "outputs": [],
   "source": [
    "df_cursos_oferecidos_detran_2018 = pd.read_excel(\"datasets/cursos_oferecidos_detran.xlsx\")\n",
    "df_cursos_oferecidos_detran_2018 = df_cursos_oferecidos_detran_2018.fillna(0)\n",
    "\n",
    "for mes in df_cursos_oferecidos_detran_2018.columns[3:]:\n",
    "    df_cursos_oferecidos_detran_2018[mes] = df_cursos_oferecidos_detran_2018[mes].astype(int)\n",
    "\n",
    "df_cursos_oferecidos_detran_2018.head()"
   ]
  },
  {
   "cell_type": "markdown",
   "metadata": {},
   "source": [
    "### Limpa Dataset de campanhas oferecidas pelo Detran"
   ]
  },
  {
   "cell_type": "code",
   "execution_count": null,
   "metadata": {},
   "outputs": [],
   "source": [
    "df_campanhas_educativas_2012_2019 = pd.read_excel(\"datasets/campanhas_educativas_2012_2019.xlsx\")\n",
    "\n",
    "for column in df_campanhas_educativas_2012_2019.columns[6:10]:\n",
    "    df_campanhas_educativas_2012_2019[column] = df_campanhas_educativas_2012_2019[column].fillna(0)\n",
    "    df_campanhas_educativas_2012_2019[column] = df_campanhas_educativas_2012_2019[column].astype(int)\n",
    "\n",
    "df_campanhas_educativas_2012_2019['Região Administrativa do Evento da Campanha'] = df_campanhas_educativas_2012_2019['Região Administrativa do Evento da Campanha'].fillna(\"--\")\n",
    "\n",
    "df_campanhas_educativas_2012_2019.head()"
   ]
  },
  {
   "cell_type": "markdown",
   "metadata": {},
   "source": [
    "### Limpa e combina Dataset de acidentes em rodovias"
   ]
  },
  {
   "cell_type": "code",
   "execution_count": null,
   "metadata": {},
   "outputs": [],
   "source": [
    "df_acidentes_rodovias_2017 = pd.read_excel(\"datasets/acidentes/acidentes-rodovias-2017.xlsx\")\n",
    "df_acidentes_rodovias_2017['uf'] = df_acidentes_rodovias_2017['uf'].fillna(\"--\")\n",
    "df_acidentes_rodovias_2017 = df_acidentes_rodovias_2017[df_acidentes_rodovias_2017['uf'] == 'DF']\n",
    "df_acidentes_rodovias_2017 = df_acidentes_rodovias_2017.drop(columns = ['id', 'pesid'], axis = 1)\n",
    "\n",
    "df_acidentes_rodovias_2017.head()"
   ]
  },
  {
   "cell_type": "code",
   "execution_count": null,
   "metadata": {},
   "outputs": [],
   "source": [
    "df_acidentes_rodovias_2018 = pd.read_excel(\"datasets/acidentes/acidentes-rodovias-2018.xlsx\")\n",
    "df_acidentes_rodovias_2018['uf'] = df_acidentes_rodovias_2018['uf'].fillna(\"--\")\n",
    "df_acidentes_rodovias_2018 = df_acidentes_rodovias_2018[df_acidentes_rodovias_2018['uf'] == 'DF']\n",
    "df_acidentes_rodovias_2018 = df_acidentes_rodovias_2018.drop(columns = ['id', 'pesid'], axis = 1)\n",
    "\n",
    "df_acidentes_rodovias_2018.head()"
   ]
  },
  {
   "cell_type": "code",
   "execution_count": null,
   "metadata": {},
   "outputs": [],
   "source": [
    "df_acidentes_rodovias_2019 = pd.read_excel(\"datasets/acidentes/acidentes-rodovias-2019.xlsx\")\n",
    "df_acidentes_rodovias_2019['uf'] = df_acidentes_rodovias_2019['uf'].fillna(\"--\")\n",
    "df_acidentes_rodovias_2019 = df_acidentes_rodovias_2019[df_acidentes_rodovias_2019['uf'] == 'DF']\n",
    "df_acidentes_rodovias_2019 = df_acidentes_rodovias_2019.drop(columns = ['id', 'pesid'], axis = 1)\n",
    "\n",
    "df_acidentes_rodovias_2019.head()"
   ]
  },
  {
   "cell_type": "code",
   "execution_count": null,
   "metadata": {},
   "outputs": [],
   "source": [
    "df_acidentes_rodovias_2017_2019 = pd.concat([df_acidentes_rodovias_2017, df_acidentes_rodovias_2018])\n",
    "df_acidentes_rodovias_2017_2019 = pd.concat([df_acidentes_rodovias_2017_2019, df_acidentes_rodovias_2019])\n",
    "\n",
    "df_acidentes_rodovias_2017_2019.info()"
   ]
  },
  {
   "cell_type": "markdown",
   "metadata": {},
   "source": [
    "### Limpa Dataset de infrações DER"
   ]
  },
  {
   "cell_type": "code",
   "execution_count": null,
   "metadata": {},
   "outputs": [],
   "source": [
    "df_autosinfrac_ago_2018 = pd.read_excel(\"datasets/infracoes/DER/2018_dez_autosinfrac.xlsx\")\n",
    "pattern_localizacao = re.compile(\"df|df |df-\")\n",
    "\n",
    "localizacao = []\n",
    "\n",
    "for identificacao in df_autosinfrac_ago_2018['auinf_local_rodovia']:\n",
    "    print(identificacao)\n"
   ]
  },
  {
   "cell_type": "markdown",
   "metadata": {},
   "source": [
    "### Refresh Database"
   ]
  },
  {
   "cell_type": "code",
   "execution_count": null,
   "metadata": {},
   "outputs": [],
   "source": [
    "# Deletes all records, only if necessary\n",
    "clear_database()"
   ]
  },
  {
   "cell_type": "markdown",
   "metadata": {},
   "source": [
    "### Salvar e recuperar DataFrames"
   ]
  },
  {
   "cell_type": "code",
   "execution_count": null,
   "metadata": {},
   "outputs": [],
   "source": [
    "dataframe_to_mongo(df_tipos_infracoes_2018, \"tipos_infracoes_2018\")\n",
    "dataframe_to_mongo(df_acidentes_fatais_2008_2017, \"acidentes_fatais_2008_2017\")\n",
    "dataframe_to_mongo(df_pedestres_mortos_trechos_ns_2008_2017, \"pedestres_mortos_trechos_ns_2008_2017\")\n",
    "dataframe_to_mongo(df_cursos_oferecidos_detran_2018, \"cursos_oferecidos_detran_2018\")\n",
    "dataframe_to_mongo(df_campanhas_educativas_2012_2019, \"campanhas_educativas_detran_2012_2019\")\n",
    "dataframe_to_mongo(df_acidentes_rodovias_2017_2019, \"acidentes_rodovias_2017_2019\")"
   ]
  },
  {
   "cell_type": "code",
   "execution_count": null,
   "metadata": {},
   "outputs": [],
   "source": [
    "test = mongo_to_dataframe(\"acidentes_rodovias_2017_2019\")\n",
    "test.head()"
   ]
  },
  {
   "cell_type": "code",
   "execution_count": null,
   "metadata": {},
   "outputs": [],
   "source": []
  }
 ],
 "metadata": {
  "kernelspec": {
   "display_name": "Python 3",
   "language": "python",
   "name": "python3"
  },
  "language_info": {
   "codemirror_mode": {
    "name": "ipython",
    "version": 3
   },
   "file_extension": ".py",
   "mimetype": "text/x-python",
   "name": "python",
   "nbconvert_exporter": "python",
   "pygments_lexer": "ipython3",
   "version": "3.7.4"
  }
 },
 "nbformat": 4,
 "nbformat_minor": 2
}
